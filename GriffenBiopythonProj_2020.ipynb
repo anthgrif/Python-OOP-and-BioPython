{
 "cells": [
  {
   "cell_type": "markdown",
   "metadata": {},
   "source": [
    "# Python Project Part 2: Data Parsing with Biopython"
   ]
  },
  {
   "cell_type": "code",
   "execution_count": 1,
   "metadata": {},
   "outputs": [],
   "source": [
    "from Bio import SeqIO"
   ]
  },
  {
   "cell_type": "code",
   "execution_count": 2,
   "metadata": {},
   "outputs": [
    {
     "name": "stdout",
     "output_type": "stream",
     "text": [
      "MT081068.1\n",
      "Seq('ATGTCTGATAATGGACCCCAAAATCAGCGAAATGCACCCCGCATTACGTTTGGT...TAA', SingleLetterAlphabet())\n",
      "1260\n",
      "MT072667.1\n",
      "Seq('GTAGATGCTGTAAATTTACTTACTAATATGTTTACACCACTAATTCAACCTATT...ACT', SingleLetterAlphabet())\n",
      "670\n",
      "MT066159.1\n",
      "Seq('TAAACACCTCATACCACTTATGTACAAAGGACTTCCTTGGAATGTAGTGCGTAT...TTG', SingleLetterAlphabet())\n",
      "290\n",
      "MT050416.1\n",
      "Seq('TGATAGAGCCATGCCTAACATGCTTAGAATTATGGCCTCACTTGTTCTTGCTCG...CCT', SingleLetterAlphabet())\n",
      "562\n",
      "MT161607.1\n",
      "Seq('TACCTTCCCAGGTAACAAACCAACCAACTTTCGATCTCTTGTAGATCTGTTCTC...AAA', SingleLetterAlphabet())\n",
      "253\n"
     ]
    }
   ],
   "source": [
    "for seq_record in SeqIO.parse(\"sarscov2.fasta\", \"fasta\"):\n",
    "    print(seq_record.id)\n",
    "    print(repr(seq_record.seq))\n",
    "    print(len(seq_record))"
   ]
  },
  {
   "cell_type": "code",
   "execution_count": 3,
   "metadata": {},
   "outputs": [
    {
     "name": "stdout",
     "output_type": "stream",
     "text": [
      "MT081068.1\n",
      "Seq('ATGTCTGATAATGGACCCCAAAATCAGCGAAATGCACCCCGCATTACGTTTGGT...TAA', IUPACAmbiguousDNA())\n",
      "1260\n",
      "MT072667.1\n",
      "Seq('GTAGATGCTGTAAATTTACTTACTAATATGTTTACACCACTAATTCAACCTATT...ACT', IUPACAmbiguousDNA())\n",
      "670\n",
      "MT066159.1\n",
      "Seq('TAAACACCTCATACCACTTATGTACAAAGGACTTCCTTGGAATGTAGTGCGTAT...TTG', IUPACAmbiguousDNA())\n",
      "290\n",
      "MT050416.1\n",
      "Seq('TGATAGAGCCATGCCTAACATGCTTAGAATTATGGCCTCACTTGTTCTTGCTCG...CCT', IUPACAmbiguousDNA())\n",
      "562\n",
      "MT161607.1\n",
      "Seq('TACCTTCCCAGGTAACAAACCAACCAACTTTCGATCTCTTGTAGATCTGTTCTC...AAA', IUPACAmbiguousDNA())\n",
      "253\n"
     ]
    }
   ],
   "source": [
    "for seq_record in SeqIO.parse(\"sarscov2.gbk\", \"genbank\"):\n",
    "    print(seq_record.id)\n",
    "    print(repr(seq_record.seq))\n",
    "    print(len(seq_record))"
   ]
  },
  {
   "cell_type": "code",
   "execution_count": 4,
   "metadata": {},
   "outputs": [
    {
     "data": {
      "text/plain": [
       "['MT081068.1', 'MT072667.1', 'MT066159.1', 'MT050416.1', 'MT161607.1']"
      ]
     },
     "execution_count": 4,
     "metadata": {},
     "output_type": "execute_result"
    }
   ],
   "source": [
    "identifiers = [seq_record.id for seq_record in SeqIO.parse(\"sarscov2.gbk\", \"genbank\")]\n",
    "identifiers"
   ]
  },
  {
   "cell_type": "code",
   "execution_count": 5,
   "metadata": {},
   "outputs": [
    {
     "name": "stdout",
     "output_type": "stream",
     "text": [
      "MT081068.1\n",
      "MT081068.1 Severe acute respiratory syndrome coronavirus 2 isolate SARS-CoV-2/HS_194/human/2020/CHN nucleocapsid phosphoprotein (N) gene, complete cds\n",
      "MT072667.1\n",
      "MT072667.1 Severe acute respiratory syndrome coronavirus 2 isolate SARS-CoV-2/GHB-03021/human/2020/BEL orf1ab polyprotein gene, partial cds\n"
     ]
    }
   ],
   "source": [
    "record_iterator = SeqIO.parse(\"sarscov2.fasta\", \"fasta\")\n",
    "\n",
    "first_record = next(record_iterator)\n",
    "print(first_record.id)\n",
    "print(first_record.description)\n",
    "\n",
    "second_record = next(record_iterator)\n",
    "print(second_record.id)\n",
    "print(second_record.description)"
   ]
  },
  {
   "cell_type": "code",
   "execution_count": 6,
   "metadata": {},
   "outputs": [
    {
     "name": "stdout",
     "output_type": "stream",
     "text": [
      "Found 5 records\n",
      "The last record\n",
      "MT161607.1\n",
      "Seq('TACCTTCCCAGGTAACAAACCAACCAACTTTCGATCTCTTGTAGATCTGTTCTC...AAA', IUPACAmbiguousDNA())\n",
      "253\n",
      "The first record\n",
      "MT081068.1\n",
      "Seq('ATGTCTGATAATGGACCCCAAAATCAGCGAAATGCACCCCGCATTACGTTTGGT...TAA', IUPACAmbiguousDNA())\n",
      "1260\n"
     ]
    }
   ],
   "source": [
    "records = list(SeqIO.parse(\"sarscov2.gbk\", \"genbank\"))\n",
    "\n",
    "print(\"Found %i records\" %len(records))\n",
    "\n",
    "print(\"The last record\")\n",
    "last_record = records[-1] #With Python, -1 returns the list object counting backwords from the end of the list\n",
    "print(last_record.id)\n",
    "print(repr(last_record.seq)) #repr() function returns a printable representation of an object\n",
    "print(len(last_record))\n",
    "\n",
    "print(\"The first record\")\n",
    "first_record = records[0]\n",
    "print(first_record.id)\n",
    "print(repr(first_record.seq))\n",
    "print(len(first_record))"
   ]
  },
  {
   "cell_type": "code",
   "execution_count": 7,
   "metadata": {},
   "outputs": [
    {
     "name": "stdout",
     "output_type": "stream",
     "text": [
      "ID: MT081068.1\n",
      "Name: MT081068\n",
      "Description: Severe acute respiratory syndrome coronavirus 2 isolate SARS-CoV-2/HS_194/human/2020/CHN nucleocapsid phosphoprotein (N) gene, complete cds\n",
      "Number of features: 3\n",
      "/molecule_type=RNA\n",
      "/topology=linear\n",
      "/data_file_division=VRL\n",
      "/date=20-FEB-2020\n",
      "/accessions=['MT081068']\n",
      "/sequence_version=1\n",
      "/keywords=['']\n",
      "/source=Severe acute respiratory syndrome coronavirus 2 (SARS-CoV-2)\n",
      "/organism=Severe acute respiratory syndrome coronavirus 2\n",
      "/taxonomy=['Viruses', 'Riboviria', 'Nidovirales', 'Cornidovirineae', 'Coronaviridae', 'Orthocoronavirinae', 'Betacoronavirus', 'Sarbecovirus']\n",
      "/references=[Reference(title='Optimizing diagnostic strategy for novel coronavirus pneumonia, a multi-center study in Eastern China', ...), Reference(title='Direct Submission', ...)]\n",
      "/structured_comment=OrderedDict([('Assembly-Data', OrderedDict([('Assembly Method', 'SPAdes v. v3.13'), ('Sequencing Technology', 'Illumina')]))])\n",
      "Seq('ATGTCTGATAATGGACCCCAAAATCAGCGAAATGCACCCCGCATTACGTTTGGT...TAA', IUPACAmbiguousDNA())\n",
      "{'molecule_type': 'RNA', 'topology': 'linear', 'data_file_division': 'VRL', 'date': '20-FEB-2020', 'accessions': ['MT081068'], 'sequence_version': 1, 'keywords': [''], 'source': 'Severe acute respiratory syndrome coronavirus 2 (SARS-CoV-2)', 'organism': 'Severe acute respiratory syndrome coronavirus 2', 'taxonomy': ['Viruses', 'Riboviria', 'Nidovirales', 'Cornidovirineae', 'Coronaviridae', 'Orthocoronavirinae', 'Betacoronavirus', 'Sarbecovirus'], 'references': [Reference(title='Optimizing diagnostic strategy for novel coronavirus pneumonia, a multi-center study in Eastern China', ...), Reference(title='Direct Submission', ...)], 'structured_comment': OrderedDict([('Assembly-Data', OrderedDict([('Assembly Method', 'SPAdes v. v3.13'), ('Sequencing Technology', 'Illumina')]))])}\n",
      "dict_keys(['molecule_type', 'topology', 'data_file_division', 'date', 'accessions', 'sequence_version', 'keywords', 'source', 'organism', 'taxonomy', 'references', 'structured_comment'])\n",
      "dict_values(['RNA', 'linear', 'VRL', '20-FEB-2020', ['MT081068'], 1, [''], 'Severe acute respiratory syndrome coronavirus 2 (SARS-CoV-2)', 'Severe acute respiratory syndrome coronavirus 2', ['Viruses', 'Riboviria', 'Nidovirales', 'Cornidovirineae', 'Coronaviridae', 'Orthocoronavirinae', 'Betacoronavirus', 'Sarbecovirus'], [Reference(title='Optimizing diagnostic strategy for novel coronavirus pneumonia, a multi-center study in Eastern China', ...), Reference(title='Direct Submission', ...)], OrderedDict([('Assembly-Data', OrderedDict([('Assembly Method', 'SPAdes v. v3.13'), ('Sequencing Technology', 'Illumina')]))])])\n",
      "Severe acute respiratory syndrome coronavirus 2 (SARS-CoV-2)\n",
      "Severe acute respiratory syndrome coronavirus 2 \n",
      "\n",
      "['Severe acute respiratory syndrome coronavirus 2', 'Severe acute respiratory syndrome coronavirus 2', 'Severe acute respiratory syndrome coronavirus 2', 'Severe acute respiratory syndrome coronavirus 2', 'Severe acute respiratory syndrome coronavirus 2'] \n",
      "\n",
      "['Severe acute respiratory syndrome coronavirus 2', 'Severe acute respiratory syndrome coronavirus 2', 'Severe acute respiratory syndrome coronavirus 2', 'Severe acute respiratory syndrome coronavirus 2', 'Severe acute respiratory syndrome coronavirus 2'] \n",
      "\n",
      "['Severe acute respiratory syndrome coronavirus 2 ', 'Severe acute respiratory syndrome coronavirus 2 ', 'Severe acute respiratory syndrome coronavirus 2 ', 'Severe acute respiratory syndrome coronavirus 2 ', 'Severe acute respiratory syndrome coronavirus 2 '] \n",
      "\n",
      "['Severe acute respiratory syndrome coronavirus 2', 'Severe acute respiratory syndrome coronavirus 2', 'Severe acute respiratory syndrome coronavirus 2', 'Severe acute respiratory syndrome coronavirus 2', 'Severe acute respiratory syndrome coronavirus 2']\n"
     ]
    }
   ],
   "source": [
    "record_iterator = SeqIO.parse(\"sarscov2.gbk\", \"genbank\")\n",
    "first_record = next(record_iterator)\n",
    "print(first_record) #To view all of the annotations of a sequence record\n",
    "\n",
    "print(first_record.annotations)\n",
    "\n",
    "print(first_record.annotations.keys())\n",
    "\n",
    "print(first_record.annotations.values())\n",
    "\n",
    "print(first_record.annotations[\"source\"]) #This line and the next will produce the exact same result for covid-19\n",
    "print(first_record.annotations[\"organism\"], \"\\n\")\n",
    "\n",
    "#Going through all of the records...\n",
    "all_species = []\n",
    "for seq_record in SeqIO.parse(\"sarscov2.gbk\", \"genbank\"):\n",
    "    all_species.append(seq_record.annotations[\"organism\"])\n",
    "print(all_species, \"\\n\")\n",
    "\n",
    "#Same code as above, but with list comprehensions\n",
    "all_species = [seq_record.annotations[\"organism\"] for seq_record in SeqIO.parse(\"sarscov2.gbk\", \"genbank\")]\n",
    "print(all_species, \"\\n\")\n",
    "\n",
    "#Now to extract species names from a fasta file...\n",
    "all_species = []\n",
    "for seq_record in SeqIO.parse(\"sarscov2.fasta\", \"fasta\"):\n",
    "    fullName = \"\"\n",
    "    #Added for loop to accomodate the fact that the name of the sars is more than just the second element of the description\n",
    "    for i in range(1,7): \n",
    "        fullName += seq_record.description.split()[i] + \" \"\n",
    "    all_species.append(fullName)\n",
    "print(all_species, \"\\n\")\n",
    "\n",
    "#Same code as above, but with list comprehensions\n",
    "#Had to hardcode to append the appropriate list elements\n",
    "all_species = [(seq_record.description.split()[1] +  \" \" + seq_record.description.split()[2] + \" \" + seq_record.description.split()[3]\n",
    "               + \" \" + seq_record.description.split()[4] + \" \" + seq_record.description.split()[5] + \" \" + seq_record.description.split()[6])\n",
    "               for seq_record in SeqIO.parse(\"sarscov2.fasta\", \"fasta\") ]\n",
    "print(all_species)"
   ]
  },
  {
   "cell_type": "code",
   "execution_count": 8,
   "metadata": {},
   "outputs": [
    {
     "name": "stdout",
     "output_type": "stream",
     "text": [
      ">new_id desired new description\n",
      "ATGTCTGATAATGGACCCCAAAATCAGCGAAATGCACCCCGCATTACGTTTGGTGGACCC\n",
      "TCAGATTCAACTGGCAGTAACCAGAATGGAGAACGCAGTGGGGCGCGATCAAAACAACGT\n",
      "CGGCCCCAAGGTTTACCCAATAATACTGCGTCTTGGTTCACCGCTC\n"
     ]
    }
   ],
   "source": [
    "record_iterator = SeqIO.parse(\"sarscov2.fasta\", \"fasta\")\n",
    "first_record = next(record_iterator)\n",
    "first_record.id\n",
    "first_record.id = \"new_id\"\n",
    "first_record.id\n",
    "\n",
    "first_record.description = first_record.id + \" \" + \"desired new description\"\n",
    "print(first_record.format(\"fasta\")[:200])\n"
   ]
  },
  {
   "cell_type": "code",
   "execution_count": 9,
   "metadata": {},
   "outputs": [
    {
     "name": "stdout",
     "output_type": "stream",
     "text": [
      "3035\n",
      "3035\n",
      "3035\n",
      "3035\n",
      "3035\n"
     ]
    }
   ],
   "source": [
    "#Reading with a filename\n",
    "print(sum(len(r) for r in SeqIO.parse(\"sarscov2.gbk\", \"gb\")))\n",
    "\n",
    "#Using a handle\n",
    "with open(\"sarscov2.gbk\") as handle:\n",
    "    print(sum(len(r) for r in SeqIO.parse(handle, \"gb\")))\n",
    "    \n",
    "#Old-fashioned way of using the handle where you have to manually close it\n",
    "handle = open(\"sarscov2.gbk\")\n",
    "print(sum(len(r) for r in SeqIO.parse(handle, \"gb\")))\n",
    "handle.close()\n",
    "\n",
    "#With gzip compressed file\n",
    "import gzip\n",
    "with gzip.open(\"sarscov2.gbk.gz\", \"rt\") as handle:\n",
    "    print(sum(len(r) for r in SeqIO.parse(handle, \"gb\")))\n",
    "\n",
    "#With bzip2 compressed file\n",
    "import bz2\n",
    "if hasattr(bz2, \"open\"):\n",
    "    handle = bz2.open(\"sarscov2.gbk.bz2\", \"rt\")\n",
    "with handle:\n",
    "    print(sum(len(r) for r in SeqIO.parse(handle, \"gb\")))\n",
    "    \n"
   ]
  },
  {
   "cell_type": "code",
   "execution_count": 10,
   "metadata": {},
   "outputs": [
    {
     "name": "stdout",
     "output_type": "stream",
     "text": [
      "AF191665.1 with 0 features\n",
      "AF191665.1 with 3 features\n",
      "AF191665.1 Opuntia marenae rpl16 gene; chloroplast gene for c...\n",
      "Sequence length 902, 3 features, from: chloroplast Grusonia marenae\n",
      "AF191664.1 Opuntia clavata rpl16 gene; chloroplast gene for c...\n",
      "Sequence length 899, 3 features, from: chloroplast Grusonia clavata\n",
      "AF191663.1 Opuntia bradtiana rpl16 gene; chloroplast gene for...\n",
      "Sequence length 899, 3 features, from: chloroplast Grusonia bradtiana\n"
     ]
    }
   ],
   "source": [
    "from Bio import Entrez\n",
    "\n",
    "Entrez.email = \"A.N.Other@example.com\"\n",
    "with Entrez.efetch(\n",
    "    db = \"nucleotide\", rettype = \"fasta\", retmode = \"text\", id = \"6273291\"\n",
    ") as handle:\n",
    "    seq_record = SeqIO.read(handle, \"fasta\")\n",
    "print(\"%s with %i features\" % (seq_record.id, len(seq_record.features)))\n",
    "        \n",
    "with Entrez.efetch(\n",
    "    db = \"nucleotide\", rettype = \"gb\", retmode = \"text\", id = \"6273291\"\n",
    ") as handle:\n",
    "    seq_record = SeqIO.read(handle, \"gb\")\n",
    "print(\"%s with %i features\" % (seq_record.id, len(seq_record.features)))\n",
    "\n",
    "with Entrez.efetch(\n",
    "    db = \"nucleotide\", rettype = \"gb\", retmode = \"text\", id = \"6273291,6273290,6273289\"\n",
    ") as handle:\n",
    "    for seq_record in SeqIO.parse(handle, \"gb\"):\n",
    "        print(\"%s %s...\" % (seq_record.id, seq_record.description[:50]))\n",
    "        print(\"Sequence length %i, %i features, from: %s\" % (len(seq_record), len(seq_record.features), seq_record.annotations[\"source\"]))\n",
    "        "
   ]
  },
  {
   "cell_type": "code",
   "execution_count": 12,
   "metadata": {},
   "outputs": [],
   "source": [
    "from Bio import ExPASy\n",
    "from Bio import SeqIO\n",
    "from Bio import SwissProt"
   ]
  },
  {
   "cell_type": "code",
   "execution_count": 13,
   "metadata": {},
   "outputs": [
    {
     "name": "stdout",
     "output_type": "stream",
     "text": [
      "Severe acute respiratory syndrome coronavirus 2 isolate SARS-CoV-2/HS_194/human/2020/CHN nucleocapsid phosphoprotein (N) gene, complete cds\n",
      "Seq('ATGTCTGATAATGGACCCCAAAATCAGCGAAATGCACCCCGCATTACGTTTGGT...TAA', IUPACAmbiguousDNA())\n"
     ]
    }
   ],
   "source": [
    "cov2_dict = SeqIO.to_dict(SeqIO.parse(\"sarscov2.gbk\", \"genbank\"))\n",
    "\n",
    "len(cov2_dict)\n",
    "list(cov2_dict.keys())\n",
    "list(cov2_dict.values())\n",
    "\n",
    "seq_record = cov2_dict[\"MT081068.1\"]\n",
    "print(seq_record.description)\n",
    "print(repr(seq_record.seq))"
   ]
  },
  {
   "cell_type": "code",
   "execution_count": 14,
   "metadata": {},
   "outputs": [
    {
     "name": "stdout",
     "output_type": "stream",
     "text": [
      "dict_keys(['MT081068.1', 'MT072667.1', 'MT066159.1', 'MT050416.1', 'MT161607.1'])\n",
      "MT081068.1 5BviYOuizbQkd1/g74Hzwgox008\n",
      "MT072667.1 teNUy6ULqWZKMlXSo+Xj0NPzB2U\n",
      "MT066159.1 TI9rGoDULpeR1MJFktlQha+y8GM\n",
      "MT050416.1 5RsIiXNqTAgk3nuC9MheQCRHfH4\n",
      "MT161607.1 pNKP9yzw9ctZzPH+NPv91Dz39G4\n",
      "MT072667.1\n",
      "Severe acute respiratory syndrome coronavirus 2 isolate SARS-CoV-2/GHB-03021/human/2020/BEL orf1ab polyprotein gene, partial cds\n"
     ]
    }
   ],
   "source": [
    "cov2_dict = SeqIO.to_dict(SeqIO.parse(\"sarscov2.fasta\", \"fasta\"))\n",
    "\n",
    "#The keys are already the proper accession numbers unlike in the example with the orchid FASTA file\n",
    "print(cov2_dict.keys())\n",
    "\n",
    "from Bio.SeqUtils.CheckSum import seguid\n",
    "\n",
    "for record in SeqIO.parse(\"sarscov2.gbk\", \"genbank\"):\n",
    "    print(record.id, seguid(record.seq))\n",
    "    \n",
    "seguid_dict = SeqIO.to_dict(SeqIO.parse(\"sarscov2.gbk\", \"genbank\"), lambda rec : seguid(rec.seq))\n",
    "record = seguid_dict[\"teNUy6ULqWZKMlXSo+Xj0NPzB2U\"]\n",
    "print(record.id)\n",
    "print(record.description)"
   ]
  },
  {
   "cell_type": "code",
   "execution_count": 16,
   "metadata": {},
   "outputs": [
    {
     "name": "stdout",
     "output_type": "stream",
     "text": [
      "Severe acute respiratory syndrome coronavirus 2 isolate SARS-CoV-2/HS_194/human/2020/CHN nucleocapsid phosphoprotein (N) gene, complete cds\n"
     ]
    },
    {
     "data": {
      "text/plain": [
       "<dict_keyiterator at 0x7fa53b1bcdd0>"
      ]
     },
     "execution_count": 16,
     "metadata": {},
     "output_type": "execute_result"
    }
   ],
   "source": [
    "#Dictionary with index() function and GenBank file\n",
    "cov2_dict = SeqIO.index(\"sarscov2.gbk\", \"genbank\")\n",
    "len(cov2_dict)\n",
    "cov2_dict.keys()\n",
    "\n",
    "seq_record = cov2_dict[\"MT081068.1\"]\n",
    "print(seq_record.description)\n",
    "seq_record.seq\n",
    "cov2_dict.close()\n",
    "\n",
    "#Dictionary with index() function and FASTA file\n",
    "cov2_dict = SeqIO.index(\"sarscov2.fasta\", \"fasta\")\n",
    "len(cov2_dict)\n",
    "cov2_dict.keys()"
   ]
  },
  {
   "cell_type": "code",
   "execution_count": 24,
   "metadata": {},
   "outputs": [
    {
     "name": "stdout",
     "output_type": "stream",
     "text": [
      "4 files to index\n",
      "453473 sequences indexed\n",
      "Equine encephalosis virus NS3 gene, complete cds, isolate: Kimron1\n"
     ]
    }
   ],
   "source": [
    "import glob\n",
    "\n",
    "files = glob.glob(\"gbvrl*.seq\")\n",
    "print(\"%i files to index\" % len(files))\n",
    "\n",
    "gb_vrl = SeqIO.index_db(\"gbvrl.idx\", files, \"genbank\")\n",
    "print(\"%i sequences indexed\" % len(gb_vrl))\n",
    "\n",
    "print(gb_vrl[\"AB811634.1\"].description)"
   ]
  },
  {
   "cell_type": "code",
   "execution_count": null,
   "metadata": {},
   "outputs": [],
   "source": [
    "cov2_dict = SeqIO.index(\"sarscov2.gbk\", \"genbank\")\n",
    "print(len(cov2_dict))\n",
    "cov2_dict.close()\n",
    "\n",
    "cov2_dict = SeqIO.index(\"sarscov2.gbk.bgz\", \"genbank\")\n",
    "print(len(cov2_dict))\n",
    "cov2_dict.close()\n"
   ]
  },
  {
   "cell_type": "code",
   "execution_count": 83,
   "metadata": {},
   "outputs": [
    {
     "data": {
      "text/plain": [
       "3"
      ]
     },
     "execution_count": 83,
     "metadata": {},
     "output_type": "execute_result"
    }
   ],
   "source": [
    "from Bio.Seq import Seq\n",
    "from Bio.SeqRecord import SeqRecord\n",
    "from Bio.Alphabet import generic_protein\n",
    "\n",
    "rec1 = SeqRecord(\n",
    "        Seq(\n",
    "            \"MMYQQGCFAGGTVLRLAKDLAENNRGARVLVVCSEITAVTFRGPSETHLDSMVGQALFGD\"\n",
    "            \"GAGAVIVGSDPDLSVERPLYELVWTGATLLPDSEGAIDGHLREVGLTFHLLKDVPGLISK\"\n",
    "            \"NIEKSLKEAFTPLGISDWNSTFWIAHPGGPAILDQVEAKLGLKEEKMRATREVLSEYGNM\"\n",
    "            \"SSAC\",\n",
    "            generic_protein,\n",
    "        ),\n",
    "        id=\"gi|14150838|gb|AAK54648.1|AF376133_1\",\n",
    "        description=\"chalcone synthase [Cucumis sativus]\",\n",
    ")\n",
    "\n",
    "rec2 = SeqRecord(\n",
    "    Seq(\n",
    "        \"YPDYYFRITNREHKAELKEKFQRMCDKSMIKKRYMYLTEEILKENPSMCEYMAPSLDARQ\"\n",
    "        \"DMVVVEIPKLGKEAAVKAIKEWGQ\",\n",
    "        generic_protein,\n",
    "    ),\n",
    "    id=\"gi|13919613|gb|AAK33142.1|\",\n",
    "    description=\"chalcone synthase [Fragaria vesca subsp. bracteata]\",\n",
    ")\n",
    "\n",
    "rec3 = SeqRecord(\n",
    "    Seq(\n",
    "        \"MVTVEEFRRAQCAEGPATVMAIGTATPSNCVDQSTYPDYYFRITNSEHKVELKEKFKRMC\"\n",
    "        \"EKSMIKKRYMHLTEEILKENPNICAYMAPSLDARQDIVVVEVPKLGKEAAQKAIKEWGQP\"\n",
    "        \"KSKITHLVFCTTSGVDMPGCDYQLTKLLGLRPSVKRFMMYQQGCFAGGTVLRMAKDLAEN\"\n",
    "        \"NKGARVLVVCSEITAVTFRGPNDTHLDSLVGQALFGDGAAAVIIGSDPIPEVERPLFELV\"\n",
    "        \"SAAQTLLPDSEGAIDGHLREVGLTFHLLKDVPGLISKNIEKSLVEAFQPLGISDWNSLFW\"\n",
    "        \"IAHPGGPAILDQVELKLGLKQEKLKATRKVLSNYGNMSSACVLFILDEMRKASAKEGLGT\"\n",
    "        \"TGEGLEWGVLFGFGPGLTVETVVLHSVAT\",\n",
    "        generic_protein,\n",
    "    ),\n",
    "    id=\"gi|13925890|gb|AAK49457.1|\",\n",
    "    description=\"chalcone synthase [Nicotiana tabacum]\",\n",
    ")\n",
    "\n",
    "my_records = [rec1, rec2, rec3]\n",
    "\n",
    "SeqIO.write(my_records, \"my_example.faa\", \"fasta\")\n"
   ]
  },
  {
   "cell_type": "code",
   "execution_count": 84,
   "metadata": {},
   "outputs": [
    {
     "name": "stdout",
     "output_type": "stream",
     "text": [
      "Converted 5 records\n",
      "Converted 5 records\n"
     ]
    }
   ],
   "source": [
    "#Using past functions to convert from gb to fasta\n",
    "records = SeqIO.parse(\"sarscov2.gbk\", \"genbank\")\n",
    "count = SeqIO.write(records, \"my_example.faa\", \"fasta\")\n",
    "print(\"Converted %i records\" % count)\n",
    "\n",
    "#Using convert function\n",
    "count = SeqIO.convert(\"sarscov2.gbk\", \"genbank\", \"my_example.faa\", \"fasta\")\n",
    "print(\"Converted %i records\" % count)\n"
   ]
  },
  {
   "cell_type": "code",
   "execution_count": 85,
   "metadata": {},
   "outputs": [
    {
     "name": "stdout",
     "output_type": "stream",
     "text": [
      "MT081068.1\n",
      "TTAGGCCTGAGTTGAGTCAGCACTGCTCATGGATTGTTGCAATTGTTTGGAGAAATCATCCAAATCTGCAGCAGGAAGAAGAGTCACAGTTTGCTGTTTCTTCTGTCTCTGCGGTAAGGCTTGAGTTTCATCAGCCTTCTTCTTTTTGTCCTTTTTAGGCTCTGTTGGTGGGAATGTTTTGTATGCGTCAATATGCTTATTCAGCAAAATGACTTGATCTTTGAAATTTGGATCTTTGTCATCCAATTTGATGGCACCTGTGTAGGTCAACCACGTTCCCGAAGGTGTGACTTCCATGCCAATGCGCGACATTCCGAAGAACGCTGAAGCGCTGGGGGCAAATTGTGCAATTTGCGGCCAATGTTTGTAATCAGTTCCTTGTCTGATTAGTTCCTGGTCCCCAAAATTTCCTTGGGTTTGTTCTGGACCACGTCTGCCGAAAGCTTGTGTTACATTGTATGCTTTAGTGGCAGTACGTTTTTGCCGAGGCTTCTTAGAAGCCTCAGCAGCAGATTTCTTAGTGACAGTTTGGCCTTGTTGTTGTTGGCCTTTACCAGACATTTTGCTCTCAAGCTGGTTCAATCTGTCAAGCAGCAGCAAAGCAAGAGCAGCATCACCGCCATTGCCAGCCATTCTAGCAGGAGAAGTTCCCCTACTGCTGCCTGGAGTTGAATTTCTTGAACTGTTGCGACTACGTGATGAGGAACGAGAAGAGGCTTGACTGCCGCCTCTGCTCCCTTCTGCGTAGAAGCCTTTTGGCAATGTTGTTCCTTGAGGAAGTTGTAGCACGATTGCAGCATTGTTAGCAGGATTGCGGGTGCCAATGTGATCTTTTGGTGTATTCAAGGCTCCCTCAGTTGCAACCCATATGATGCCGTCTTTGTTAGCACCATAGGGAAGTCCAGCTTCTGGCCCAGTTCCTAGGTAGTAGAAATACCATCTTGGACTGAGATCTTTCATTTTACCGTCACCACCACGAATTCGTCTGGTAGCTCTTCGGTAGTAGCCAATTTGGTCATCTGGACTGCTATTGGTGTTAATTGGAACGCCTTGTCCTCGAGGGAATTTAAGGTCTTCCTTGCCATGTTGAGTGAGAGCGGTGAACCAAGACGCAGTATTATTGGGTAAACCTTGGGGCCGACGTTGTTTTGATCGCGCCCCACTGCGTTCTCCATTCTGGTTACTGCCAGTTGAATCTGAGGGTCCACCAAACGTAATGCGGGGTGCATTTCGCTGATTTTGGGGTCCATTATCAGACAT\n",
      "MT072667.1\n",
      "AGTTACTGAAGTCATTGAGAGCCTTTGCGAGATGACAACAAGCAGCTTCTCTGTAGCTAGTTGTATCCATTGCTCCACTAAAATACTTGTACTTATTATAAAGAGCTAAGTATCTATTATATTGCGTAAGAGGTAATAGCACATCACTACGCAACTTTAGATACATTTCTTTATTTAACAAAAAGGTGCACAGCGCAGCTTCTTCAAAAGTACTAAAGGAAACACCATTAAAGACTACACGTCTCTTTAGGTAATTACTAAAGAACCAATAGAAATGCTTTGTGGAAATACAAATGATATAAGCAATTGTTATCCAGAAAGGTACTAAAGGTGTGAACATAACCATCCACTGAATATGTGCTAAAAAAGAAACATCATTAGTAAGATAAAATGTCAAGTACAAGTAAATAACAGAATAAACACCAGGTAAGAATGAGTAAACTGGTGTTAAACAGAGTACAGTGAATGACATAAGGAATAGTAAAGTATTAAAGGCAACTACATGACTGTATTCACCAAAAGCTCTTCTAAACCTCATAAAATAGTAGGCAAGGCATGTTACTACGATAGCTACAATACCACCAGCTACTATAGATGCTGATATGTCCAAAGCACCAATAGGTTGAATTAGTGGTGTAAACATATTAGTAAGTAAATTTACAGCATCTAC\n",
      "MT066159.1\n",
      "CAATCATAAACGGATTATAGACGTAATCAAATCCAATAGAATGATGCCAACAGGCATAAGTGTCTGAAGCAGTGGAAAAGCATGTGGCACGTCTATCACATAGACAACAGGTGCGCTCAGGTCCTATTTTCACAAAATACTTCATAGATGTCAACTCAAAGCCATGTGCCCATAAGACAAATACGACTCTGTCAGAGAGATTTTTAAGTGTGTCACTTAACATTTGTACAATCTTTATACGCACTACATTCCAAGGAAGTCCTTTGTACATAAGTGGTATGAGGTGTTTA\n",
      "MT050416.1\n",
      "AGGTCCTTTAGTAAGGTCAGTCTCAGTCCAACATTTTGCTTCAGACATAAAAACATTGTTTTGATAATAAAGAACTGACTTAAAGTTCTTTATGCTAGCCACTAGACCTTGAGATGCATAAGTGCTATTGAAACACACAACAGCATCGTCAGAGAGTATCATCATTGAGAAATGTTTACGCAAATATGCGTAAAACTCATTCACAAAGTCTGTGTCAACATCTCTATTTCTATAGAGACACTCATAAAGTCTGTGTTGTAAATTGCGGACATACTTATCGGCAATTTTGTTACCATCAGTAGATAAAAGTGCATTAACATTGGCCGTGACAGCTTGACAAATGTTAAAAACACTATTAGCATAAGCAGTTGTGGCATCTCCTGATGAGGTTCCACCTGGTTTAACATATAGTGAACCGCCACACATGACCATTTCACTCAATACTTGAGCACACTCATTAGCTAATCTATAGAAACGGTGTGACAAGCTACAACACGTTGTATGTTTGCGAGCAAGAACAAGTGAGGCCATAATTCTAAGCATGTTAGGCATGGCTCTATCA\n",
      "MT161607.1\n",
      "TTTACCTTTCGGTCACACCCGGACAAAACCTAGATGTGCTGATGATCGGCTGCAACACGGACGAAACCGTAAGCAGCCTGCAGAAGATAGACGAGTTACTCGTGTCCTGTCAACGACAGTAATTAGTTATTAATTATACTGCGTGAGTGCACTAAGCATGCAGCCGAGTGACAGCCACACAGATTTTAAAGTTCGTTTAGAGAACAGATCTACAAGAGATCGAAAGTTGGTTGGTTTGTTACCTGGGAAGGTA\n"
     ]
    },
    {
     "data": {
      "text/plain": [
       "4"
      ]
     },
     "execution_count": 85,
     "metadata": {},
     "output_type": "execute_result"
    }
   ],
   "source": [
    "#To print out the reverse complement of each record\n",
    "for record in SeqIO.parse(\"sarscov2.gbk\", \"genbank\"):\n",
    "    print(record.id)\n",
    "    print(record.seq.reverse_complement())\n",
    "\n",
    "#To save each record's reverse complement to a list    \n",
    "records = [rec.reverse_complement(id = \"rc_\"+rec.id, description = \"reverse complement\")\n",
    "          for rec in SeqIO.parse(\"sarscov2.fasta\", \"fasta\")]\n",
    "len(records)\n",
    "\n",
    "#To save each record's reverse complement to a list with a conditional\n",
    "records = [rec.reverse_complement(id = \"rc_\"+rec.id, description = \"reverse complement\")\n",
    "          for rec in SeqIO.parse(\"sarscov2.fasta\", \"fasta\") if len(rec) < 700]\n",
    "len(records)\n",
    "\n",
    "#To just have a generator equal to each record's reverse complement\n",
    "records = (rec.reverse_complement(id = \"rc_\"+rec.id, description = \"reverse complement\")\n",
    "            for rec in SeqIO.parse(\"sarscov2.fasta\", \"fasta\") if len(rec) < 700)\n",
    "\n",
    "#To write to a file each reverse complement\n",
    "SeqIO.write(records, \"rev_comp.fasta\", \"fasta\")"
   ]
  }
 ],
 "metadata": {
  "kernelspec": {
   "display_name": "Python 3",
   "language": "python",
   "name": "python3"
  },
  "language_info": {
   "codemirror_mode": {
    "name": "ipython",
    "version": 3
   },
   "file_extension": ".py",
   "mimetype": "text/x-python",
   "name": "python",
   "nbconvert_exporter": "python",
   "pygments_lexer": "ipython3",
   "version": "3.7.4"
  }
 },
 "nbformat": 4,
 "nbformat_minor": 2
}
